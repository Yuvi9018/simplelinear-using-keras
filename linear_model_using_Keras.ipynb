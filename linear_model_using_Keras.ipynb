{
  "nbformat": 4,
  "nbformat_minor": 0,
  "metadata": {
    "colab": {
      "name": "linear model using Keras.ipynb",
      "provenance": []
    },
    "kernelspec": {
      "name": "python3",
      "display_name": "Python 3"
    },
    "language_info": {
      "name": "python"
    }
  },
  "cells": [
    {
      "cell_type": "code",
      "execution_count": 12,
      "metadata": {
        "id": "PGIGXRGAsvlp"
      },
      "outputs": [],
      "source": [
        "import tensorflow as tf\n",
        "import keras #ML Library\n",
        "import numpy as np #Mathematics Library\n",
        "import pandas as pd #Data-handling Library\n",
        "import matplotlib.pyplot as plt #Used to graph our results"
      ]
    },
    {
      "cell_type": "code",
      "source": [
        "df=pd.read_excel('House.xlsx')"
      ],
      "metadata": {
        "id": "VXbxa1MUGNCv"
      },
      "execution_count": 6,
      "outputs": []
    },
    {
      "cell_type": "code",
      "source": [
        "df"
      ],
      "metadata": {
        "colab": {
          "base_uri": "https://localhost:8080/",
          "height": 424
        },
        "id": "2SxQA80ZGg_G",
        "outputId": "9fdc694e-55b5-4207-ad54-88403df5621b"
      },
      "execution_count": 7,
      "outputs": [
        {
          "output_type": "execute_result",
          "data": {
            "text/plain": [
              "      SquareFeet  SalePrice\n",
              "0           1710     208500\n",
              "1           1262     181500\n",
              "2           1786     223500\n",
              "3           1717     140000\n",
              "4           2198     250000\n",
              "...          ...        ...\n",
              "1455        1647     175000\n",
              "1456        2073     210000\n",
              "1457        2340     266500\n",
              "1458        1078     142125\n",
              "1459        1256     147500\n",
              "\n",
              "[1460 rows x 2 columns]"
            ],
            "text/html": [
              "\n",
              "  <div id=\"df-32973d9e-3c70-4c8d-8ad3-c135ab8be916\">\n",
              "    <div class=\"colab-df-container\">\n",
              "      <div>\n",
              "<style scoped>\n",
              "    .dataframe tbody tr th:only-of-type {\n",
              "        vertical-align: middle;\n",
              "    }\n",
              "\n",
              "    .dataframe tbody tr th {\n",
              "        vertical-align: top;\n",
              "    }\n",
              "\n",
              "    .dataframe thead th {\n",
              "        text-align: right;\n",
              "    }\n",
              "</style>\n",
              "<table border=\"1\" class=\"dataframe\">\n",
              "  <thead>\n",
              "    <tr style=\"text-align: right;\">\n",
              "      <th></th>\n",
              "      <th>SquareFeet</th>\n",
              "      <th>SalePrice</th>\n",
              "    </tr>\n",
              "  </thead>\n",
              "  <tbody>\n",
              "    <tr>\n",
              "      <th>0</th>\n",
              "      <td>1710</td>\n",
              "      <td>208500</td>\n",
              "    </tr>\n",
              "    <tr>\n",
              "      <th>1</th>\n",
              "      <td>1262</td>\n",
              "      <td>181500</td>\n",
              "    </tr>\n",
              "    <tr>\n",
              "      <th>2</th>\n",
              "      <td>1786</td>\n",
              "      <td>223500</td>\n",
              "    </tr>\n",
              "    <tr>\n",
              "      <th>3</th>\n",
              "      <td>1717</td>\n",
              "      <td>140000</td>\n",
              "    </tr>\n",
              "    <tr>\n",
              "      <th>4</th>\n",
              "      <td>2198</td>\n",
              "      <td>250000</td>\n",
              "    </tr>\n",
              "    <tr>\n",
              "      <th>...</th>\n",
              "      <td>...</td>\n",
              "      <td>...</td>\n",
              "    </tr>\n",
              "    <tr>\n",
              "      <th>1455</th>\n",
              "      <td>1647</td>\n",
              "      <td>175000</td>\n",
              "    </tr>\n",
              "    <tr>\n",
              "      <th>1456</th>\n",
              "      <td>2073</td>\n",
              "      <td>210000</td>\n",
              "    </tr>\n",
              "    <tr>\n",
              "      <th>1457</th>\n",
              "      <td>2340</td>\n",
              "      <td>266500</td>\n",
              "    </tr>\n",
              "    <tr>\n",
              "      <th>1458</th>\n",
              "      <td>1078</td>\n",
              "      <td>142125</td>\n",
              "    </tr>\n",
              "    <tr>\n",
              "      <th>1459</th>\n",
              "      <td>1256</td>\n",
              "      <td>147500</td>\n",
              "    </tr>\n",
              "  </tbody>\n",
              "</table>\n",
              "<p>1460 rows × 2 columns</p>\n",
              "</div>\n",
              "      <button class=\"colab-df-convert\" onclick=\"convertToInteractive('df-32973d9e-3c70-4c8d-8ad3-c135ab8be916')\"\n",
              "              title=\"Convert this dataframe to an interactive table.\"\n",
              "              style=\"display:none;\">\n",
              "        \n",
              "  <svg xmlns=\"http://www.w3.org/2000/svg\" height=\"24px\"viewBox=\"0 0 24 24\"\n",
              "       width=\"24px\">\n",
              "    <path d=\"M0 0h24v24H0V0z\" fill=\"none\"/>\n",
              "    <path d=\"M18.56 5.44l.94 2.06.94-2.06 2.06-.94-2.06-.94-.94-2.06-.94 2.06-2.06.94zm-11 1L8.5 8.5l.94-2.06 2.06-.94-2.06-.94L8.5 2.5l-.94 2.06-2.06.94zm10 10l.94 2.06.94-2.06 2.06-.94-2.06-.94-.94-2.06-.94 2.06-2.06.94z\"/><path d=\"M17.41 7.96l-1.37-1.37c-.4-.4-.92-.59-1.43-.59-.52 0-1.04.2-1.43.59L10.3 9.45l-7.72 7.72c-.78.78-.78 2.05 0 2.83L4 21.41c.39.39.9.59 1.41.59.51 0 1.02-.2 1.41-.59l7.78-7.78 2.81-2.81c.8-.78.8-2.07 0-2.86zM5.41 20L4 18.59l7.72-7.72 1.47 1.35L5.41 20z\"/>\n",
              "  </svg>\n",
              "      </button>\n",
              "      \n",
              "  <style>\n",
              "    .colab-df-container {\n",
              "      display:flex;\n",
              "      flex-wrap:wrap;\n",
              "      gap: 12px;\n",
              "    }\n",
              "\n",
              "    .colab-df-convert {\n",
              "      background-color: #E8F0FE;\n",
              "      border: none;\n",
              "      border-radius: 50%;\n",
              "      cursor: pointer;\n",
              "      display: none;\n",
              "      fill: #1967D2;\n",
              "      height: 32px;\n",
              "      padding: 0 0 0 0;\n",
              "      width: 32px;\n",
              "    }\n",
              "\n",
              "    .colab-df-convert:hover {\n",
              "      background-color: #E2EBFA;\n",
              "      box-shadow: 0px 1px 2px rgba(60, 64, 67, 0.3), 0px 1px 3px 1px rgba(60, 64, 67, 0.15);\n",
              "      fill: #174EA6;\n",
              "    }\n",
              "\n",
              "    [theme=dark] .colab-df-convert {\n",
              "      background-color: #3B4455;\n",
              "      fill: #D2E3FC;\n",
              "    }\n",
              "\n",
              "    [theme=dark] .colab-df-convert:hover {\n",
              "      background-color: #434B5C;\n",
              "      box-shadow: 0px 1px 3px 1px rgba(0, 0, 0, 0.15);\n",
              "      filter: drop-shadow(0px 1px 2px rgba(0, 0, 0, 0.3));\n",
              "      fill: #FFFFFF;\n",
              "    }\n",
              "  </style>\n",
              "\n",
              "      <script>\n",
              "        const buttonEl =\n",
              "          document.querySelector('#df-32973d9e-3c70-4c8d-8ad3-c135ab8be916 button.colab-df-convert');\n",
              "        buttonEl.style.display =\n",
              "          google.colab.kernel.accessAllowed ? 'block' : 'none';\n",
              "\n",
              "        async function convertToInteractive(key) {\n",
              "          const element = document.querySelector('#df-32973d9e-3c70-4c8d-8ad3-c135ab8be916');\n",
              "          const dataTable =\n",
              "            await google.colab.kernel.invokeFunction('convertToInteractive',\n",
              "                                                     [key], {});\n",
              "          if (!dataTable) return;\n",
              "\n",
              "          const docLinkHtml = 'Like what you see? Visit the ' +\n",
              "            '<a target=\"_blank\" href=https://colab.research.google.com/notebooks/data_table.ipynb>data table notebook</a>'\n",
              "            + ' to learn more about interactive tables.';\n",
              "          element.innerHTML = '';\n",
              "          dataTable['output_type'] = 'display_data';\n",
              "          await google.colab.output.renderOutput(dataTable, element);\n",
              "          const docLink = document.createElement('div');\n",
              "          docLink.innerHTML = docLinkHtml;\n",
              "          element.appendChild(docLink);\n",
              "        }\n",
              "      </script>\n",
              "    </div>\n",
              "  </div>\n",
              "  "
            ]
          },
          "metadata": {},
          "execution_count": 7
        }
      ]
    },
    {
      "cell_type": "code",
      "source": [
        "squareFeet = df[['SquareFeet']].values #x value\n",
        "salePrice = df[['SalePrice']].values #y value"
      ],
      "metadata": {
        "id": "Dj8IzTOkGitA"
      },
      "execution_count": 8,
      "outputs": []
    },
    {
      "cell_type": "code",
      "source": [
        "model = keras.Sequential()\n",
        "model.add(keras.layers.Dense(1, input_shape=(1,)))\n",
        "model.compile(tf.keras.optimizers.Adam(lr=1), 'mean_squared_error')\n",
        "\n",
        "model.fit(squareFeet,salePrice, epochs=30, batch_size=10)"
      ],
      "metadata": {
        "colab": {
          "base_uri": "https://localhost:8080/"
        },
        "id": "lpumdwSYHyT-",
        "outputId": "ab6e0d03-0214-4283-efa5-0f406438379b"
      },
      "execution_count": 13,
      "outputs": [
        {
          "output_type": "stream",
          "name": "stdout",
          "text": [
            "Epoch 1/30\n"
          ]
        },
        {
          "output_type": "stream",
          "name": "stderr",
          "text": [
            "/usr/local/lib/python3.7/dist-packages/keras/optimizer_v2/adam.py:105: UserWarning: The `lr` argument is deprecated, use `learning_rate` instead.\n",
            "  super(Adam, self).__init__(name, **kwargs)\n"
          ]
        },
        {
          "output_type": "stream",
          "name": "stdout",
          "text": [
            "146/146 [==============================] - 1s 1ms/step - loss: 15385445376.0000\n",
            "Epoch 2/30\n",
            "146/146 [==============================] - 0s 1ms/step - loss: 3412736768.0000\n",
            "Epoch 3/30\n",
            "146/146 [==============================] - 0s 1ms/step - loss: 3187584256.0000\n",
            "Epoch 4/30\n",
            "146/146 [==============================] - 0s 1ms/step - loss: 3192207104.0000\n",
            "Epoch 5/30\n",
            "146/146 [==============================] - 0s 1ms/step - loss: 3194121984.0000\n",
            "Epoch 6/30\n",
            "146/146 [==============================] - 0s 1ms/step - loss: 3194566912.0000\n",
            "Epoch 7/30\n",
            "146/146 [==============================] - 0s 1ms/step - loss: 3197973248.0000\n",
            "Epoch 8/30\n",
            "146/146 [==============================] - 0s 1ms/step - loss: 3198740992.0000\n",
            "Epoch 9/30\n",
            "146/146 [==============================] - 0s 1ms/step - loss: 3223300608.0000\n",
            "Epoch 10/30\n",
            "146/146 [==============================] - 0s 1ms/step - loss: 3171685632.0000\n",
            "Epoch 11/30\n",
            "146/146 [==============================] - 0s 1ms/step - loss: 3201206272.0000\n",
            "Epoch 12/30\n",
            "146/146 [==============================] - 0s 1ms/step - loss: 3197529856.0000\n",
            "Epoch 13/30\n",
            "146/146 [==============================] - 0s 1ms/step - loss: 3200766464.0000\n",
            "Epoch 14/30\n",
            "146/146 [==============================] - 0s 1ms/step - loss: 3181181952.0000\n",
            "Epoch 15/30\n",
            "146/146 [==============================] - 0s 1ms/step - loss: 3197550592.0000\n",
            "Epoch 16/30\n",
            "146/146 [==============================] - 0s 1ms/step - loss: 3206486784.0000\n",
            "Epoch 17/30\n",
            "146/146 [==============================] - 0s 1ms/step - loss: 3193140224.0000\n",
            "Epoch 18/30\n",
            "146/146 [==============================] - 0s 1ms/step - loss: 3225777408.0000\n",
            "Epoch 19/30\n",
            "146/146 [==============================] - 0s 1ms/step - loss: 3195281152.0000\n",
            "Epoch 20/30\n",
            "146/146 [==============================] - 0s 1ms/step - loss: 3175570688.0000\n",
            "Epoch 21/30\n",
            "146/146 [==============================] - 0s 1ms/step - loss: 3243090432.0000\n",
            "Epoch 22/30\n",
            "146/146 [==============================] - 0s 1ms/step - loss: 3190500096.0000\n",
            "Epoch 23/30\n",
            "146/146 [==============================] - 0s 1ms/step - loss: 3192517120.0000\n",
            "Epoch 24/30\n",
            "146/146 [==============================] - 0s 1ms/step - loss: 3210241024.0000\n",
            "Epoch 25/30\n",
            "146/146 [==============================] - 0s 1ms/step - loss: 3217293568.0000\n",
            "Epoch 26/30\n",
            "146/146 [==============================] - 0s 1ms/step - loss: 3206467072.0000\n",
            "Epoch 27/30\n",
            "146/146 [==============================] - 0s 1ms/step - loss: 3204992768.0000\n",
            "Epoch 28/30\n",
            "146/146 [==============================] - 0s 1ms/step - loss: 3199069184.0000\n",
            "Epoch 29/30\n",
            "146/146 [==============================] - 0s 1ms/step - loss: 3181082624.0000\n",
            "Epoch 30/30\n",
            "146/146 [==============================] - 0s 1ms/step - loss: 3186326528.0000\n"
          ]
        },
        {
          "output_type": "execute_result",
          "data": {
            "text/plain": [
              "<keras.callbacks.History at 0x7fc837b25290>"
            ]
          },
          "metadata": {},
          "execution_count": 13
        }
      ]
    },
    {
      "cell_type": "code",
      "source": [
        "#Plot datapoints\n",
        "df.plot(kind='scatter',\n",
        "       x='SquareFeet',\n",
        "       y='SalePrice', title='Housing Prices and Square Footage of Iowa Homes')\n",
        "\n",
        "\n",
        "y_pred = model.predict(squareFeet) #The predicted housing price based on square feet\n",
        "\n",
        "#Plot the linear regression line\n",
        "plt.plot(squareFeet, y_pred, color='red')"
      ],
      "metadata": {
        "colab": {
          "base_uri": "https://localhost:8080/",
          "height": 312
        },
        "id": "iaDzWcr9H1pE",
        "outputId": "3c848bda-1a93-4837-c3f1-1ad8252b1416"
      },
      "execution_count": 14,
      "outputs": [
        {
          "output_type": "execute_result",
          "data": {
            "text/plain": [
              "[<matplotlib.lines.Line2D at 0x7fc8383973d0>]"
            ]
          },
          "metadata": {},
          "execution_count": 14
        },
        {
          "output_type": "display_data",
          "data": {
            "text/plain": [
              "<Figure size 432x288 with 1 Axes>"
            ],
            "image/png": "[encoded data removed]"
          },
          "metadata": {
            "needs_background": "light"
          }
        }
      ]
    },
    {
      "cell_type": "code",
      "source": [
        "newSF = 2000\n",
        "print(model.predict([newSF]))"
      ],
      "metadata": {
        "colab": {
          "base_uri": "https://localhost:8080/"
        },
        "id": "yz7wTEp5H5nh",
        "outputId": "01dac54f-5a26-479e-fede-7f5e801dd331"
      },
      "execution_count": 15,
      "outputs": [
        {
          "output_type": "stream",
          "name": "stdout",
          "text": [
            "[[232194.03]]\n"
          ]
        }
      ]
    },
    {
      "cell_type": "code",
      "source": [
        ""
      ],
      "metadata": {
        "id": "nm4C8H12ImjI"
      },
      "execution_count": null,
      "outputs": []
    }
  ]
}